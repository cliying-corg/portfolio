{
 "cells": [
  {
   "cell_type": "markdown",
   "id": "ee0cff4d",
   "metadata": {},
   "source": [
    "**Problem statement**:\n",
    "Build a proof-of-concept model that segments brain tumour on 2D FLAIR MRI slices from the BraTS 2020 dataset. Output a binary mask (tumour vs background) and evaluate with Dice. This is a learning exercise (non-clinical), emphasizing clean data handling, leakage-free splits, and clear visualizations.\n"
   ]
  },
  {
   "cell_type": "code",
   "execution_count": null,
   "id": "a5f848c1",
   "metadata": {},
   "outputs": [],
   "source": []
  }
 ],
 "metadata": {
  "kernelspec": {
   "display_name": "portfolio",
   "language": "python",
   "name": "python3"
  },
  "language_info": {
   "codemirror_mode": {
    "name": "ipython",
    "version": 3
   },
   "file_extension": ".py",
   "mimetype": "text/x-python",
   "name": "python",
   "nbconvert_exporter": "python",
   "pygments_lexer": "ipython3",
   "version": "3.12.9"
  }
 },
 "nbformat": 4,
 "nbformat_minor": 5
}
